





import numpy as np
import pandas as pd
import seaborn as sns
import matplotlib.pyplot as plt
%matplotlib inline
import warnings
warnings.filterwarnings('ignore')
import plotly.express as px


pd.set_option('display.max_rows', 10000)
pd.set_option('display.max_columns', 10000)











data = pd.read_csv('archive//PS_20174392719_1491204439457_log.csv')


data.head()











data.shape





data.columns





data.dtypes





data.isnull().sum()





data.info()





data.describe().T





data.duplicated().sum()








plt.pie(x = data.isFraud.value_counts(), labels = ["Not_fraud", "fraud"], autopct = '%.2f%%')
plt.show()











plt.pie(x = data.type.value_counts(), labels = ["CASH_OUT", "PAYMENT", "CASH_IN", "TRANSFER", "DEBIT"], autopct = '%.2f%%')
plt.show()











correlation = data.corr(numeric_only = True)


correlation['isFraud'].sort_values(ascending = False)








from sklearn.preprocessing import LabelEncoder


le = LabelEncoder()


data['type'] = le.fit_transform(data['type'])





data['isFraud'] = data['isFraud'].map({0 : "No_Fraud", 1 : "Fraud"})








from sklearn.model_selection import train_test_split


x = data[["type", "amount", "oldbalanceOrg", "newbalanceOrig"]]


y = data[["isFraud"]]





X_train, X_test, y_train, y_test = train_test_split(x, y, test_size = 0.2, random_state = 42)





X_train.shape, X_test.shape, y_train.shape, y_test.shape








from sklearn.tree import DecisionTreeClassifier


model = DecisionTreeClassifier()


model.fit(X_train, y_train)


y_pred = model.predict(X_test)





from sklearn.metrics import accuracy_score


accuracy_score(y_test, y_pred)














import mysql.connector
import pandas as pd


config = {
    'user': 'root',
    'password': '#@augustin#@7',
    'host': 'localhost',
    'database': 'creditscoreclassification'
}


connection = mysql.connector.connect(**config)


query = "SELECT * FROM credit_score_table"


data_frame = pd.read_sql(query, connection)


data_frame.to_csv('output.csv', index=False)


connection.close()


x = pd.read_csv('output.csv')


x.head()


x.shape



